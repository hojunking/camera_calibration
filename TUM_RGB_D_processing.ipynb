{
 "cells": [
  {
   "cell_type": "markdown",
   "metadata": {},
   "source": [
    "## TUM RGB-D\n",
    "---\n",
    "intrinsic camera parameter\n",
    "```markdown\n",
    "fx = 525.0  # focal length x\n",
    "fy = 525.0  # focal length y\n",
    "cx = 319.5  # optical center x\n",
    "cy = 239.5  # optical center y\n",
    "```\n",
    "RGB, Depth image로부터 Point cloud data 생성\n",
    "\n",
    "\n",
    "issue: depth, rgb 데이터간 timestamp가 일치하지 않기 때문에 가장 가까운 시간으로 pairing 작업이 필요한 것 같다"
   ]
  },
  {
   "cell_type": "code",
   "execution_count": 12,
   "metadata": {},
   "outputs": [],
   "source": [
    "import numpy as np\n",
    "import cv2, os"
   ]
  },
  {
   "cell_type": "code",
   "execution_count": 14,
   "metadata": {},
   "outputs": [],
   "source": [
    "# Camera intrinsic parameters\n",
    "fx = 525.0 # focal length in x-direction\n",
    "fy = 525.0 # focal length in y-direction\n",
    "cx = 319.5 # principal point x-coordinate\n",
    "cy = 239.5 # principal point y-coordinate"
   ]
  },
  {
   "cell_type": "code",
   "execution_count": 13,
   "metadata": {},
   "outputs": [],
   "source": [
    "def read_association_file(file_path):\n",
    "    data = []\n",
    "    with open(file_path, 'r') as f:\n",
    "        for line in f:\n",
    "            if not line.startswith('#'):\n",
    "                timestamp, filename = line.strip().split()\n",
    "                data.append((float(timestamp), filename))\n",
    "    return data\n",
    "\n",
    "def depth_to_3d(depth, fx, fy, cx, cy):\n",
    "    height, width = depth.shape\n",
    "    u = np.linspace(0, width-1, width)\n",
    "    v = np.linspace(0, height-1, height)\n",
    "    u,v = np.meshgrid(u,v)\n",
    "    \n",
    "    X = (u - cx) * depth / fx\n",
    "    Y = (v - cy) * depth / fy\n",
    "    Z = depth\n",
    "    \n",
    "    return np.stack((X,Y,Z), axis=-1).reshape(-1, 3)"
   ]
  },
  {
   "cell_type": "code",
   "execution_count": null,
   "metadata": {},
   "outputs": [],
   "source": [
    "base_dir = 'path_to_dataset_directory'  # Update this with the path to your dataset\n",
    "\n",
    "depth_associations = read_association_file(os.path.join(base_dir, 'depth.txt'))\n",
    "rgb_associations = read_association_file(os.path.join(base_dir, 'rgb.txt'))\n",
    "\n",
    "for depth_timestamp, depth_filename in depth_associations:\n",
    "    depth_image_path = os.path.join(base_dir, depth_filename)\n",
    "\n",
    "    # Finding the closest RGB timestamp and filename\n",
    "    closest_rgb_timestamp, closest_rgb_filename = min(rgb_associations, key=lambda x: abs(x[0] - depth_timestamp))\n",
    "    rgb_image_path = os.path.join(base_dir, closest_rgb_filename)\n",
    "\n",
    "    depth = cv2.imread(depth_image_path, -1) * 0.0002  # TUM depth images are saved in 16-bit with 5cm baseline, so multiplying by 0.0002 converts to meters\n",
    "    rgb = cv2.imread(rgb_image_path)\n",
    "\n",
    "    points_3d = depth_to_3d(depth, fx, fy, cx, cy)\n",
    "    colors = rgb.reshape(-1, 3)\n",
    "\n",
    "    # Continue with your processing...\n"
   ]
  },
  {
   "cell_type": "code",
   "execution_count": 16,
   "metadata": {},
   "outputs": [
    {
     "name": "stdout",
     "output_type": "stream",
     "text": [
      "C:\\Users\\hojun\\git\\data\\TUM_rgbd_dataset_freiburg1_xyz\\rgb/1305031102.175304.png\n"
     ]
    }
   ],
   "source": [
    "## get closet timestamp rgb image\n",
    "depth_timestamp = 1305031102.160407\n",
    "depth_filename = '1305031102.160407.png'\n",
    "\n",
    "base_dir = r\"C:\\Users\\hojun\\git\\data\\TUM_rgbd_dataset_freiburg1_xyz\"\n",
    "# Update this with the path to your dataset\n",
    "\n",
    "rgb_associations = read_association_file(os.path.join(base_dir, 'rgb.txt'))\n",
    "\n",
    "depth_image_path = os.path.join(base_dir, depth_filename)\n",
    "\n",
    "# Finding the closest RGB timestamp and filename\n",
    "closest_rgb_timestamp, closest_rgb_filename = min(rgb_associations, key=lambda x: abs(x[0] - depth_timestamp))\n",
    "rgb_image_path = os.path.join(base_dir, closest_rgb_filename)\n",
    "\n",
    "print(rgb_image_path)"
   ]
  },
  {
   "cell_type": "code",
   "execution_count": null,
   "metadata": {},
   "outputs": [],
   "source": []
  },
  {
   "cell_type": "markdown",
   "metadata": {},
   "source": []
  },
  {
   "cell_type": "code",
   "execution_count": null,
   "metadata": {},
   "outputs": [],
   "source": [
    "depth_image = np.transpose(depths[0,:,:], (1, 0))\n",
    "rgb_image = np.transpose(rgbs[0,:,:,:], (2, 1, 0))  # Transposing to have shape (width, height, 3)\n",
    "\n",
    "point_cloud_rgb = depth_to_pointcloud_with_rgb(depth_image, rgb_image)\n",
    "\n",
    "# Save to .csv format\n",
    "np.savetxt(f'../data/nyu_depth_v2_labeled_csv/output_{2}.csv', point_cloud_rgb, delimiter=',', header='x,y,z,r,g,b', comments='', fmt='%f,%f,%f,%d,%d,%d')"
   ]
  }
 ],
 "metadata": {
  "kernelspec": {
   "display_name": "3d",
   "language": "python",
   "name": "python3"
  },
  "language_info": {
   "codemirror_mode": {
    "name": "ipython",
    "version": 3
   },
   "file_extension": ".py",
   "mimetype": "text/x-python",
   "name": "python",
   "nbconvert_exporter": "python",
   "pygments_lexer": "ipython3",
   "version": "3.10.0"
  }
 },
 "nbformat": 4,
 "nbformat_minor": 2
}
